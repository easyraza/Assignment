{
 "cells": [
  {
   "cell_type": "markdown",
   "id": "2e53b28c",
   "metadata": {},
   "source": []
  },
  {
   "cell_type": "markdown",
   "id": "1351a509",
   "metadata": {},
   "source": [
    "<h4> (b)\tDemonstrate how Dijkstra’s algorithm would find the shortest path to the solution in Fig.1 through diagrams and written explanation of each stage. [0-25] </h4>\n",
    "\n",
    "<br>\n",
    "\n",
    "<table style=\"border: 1px solid black; align:left\">\n",
    "    <thead>\n",
    "    <tr>\n",
    "        <th style=\"text-align:center\">Vertex</th>\n",
    "        <th style=\"text-align:center\">Shortest Distance from Source</th>\n",
    "        <th style=\"text-align:center\">Previous Vertex</th>\n",
    "    </tr>\n",
    "    </thead>\n",
    "    <tbody>\n",
    "    <tr>\n",
    "        <td style=\"text-align:center\">A</td>\n",
    "        <td style=\"text-align:center\">0</td>\n",
    "        <td style=\"text-align:center\"></td>\n",
    "    </tr>\n",
    "    <tr>\n",
    "        <td style=\"text-align:center\">B</td>\n",
    "        <td style=\"text-align:center\">1</td>\n",
    "        <td style=\"text-align:center\">A</td>\n",
    "    </tr>\n",
    "    <tr>\n",
    "        <td style=\"text-align:center\">C</td>\n",
    "        <td style=\"text-align:center\">5, 3</td>\n",
    "        <td style=\"text-align:center\">A, B</td>\n",
    "    </tr>\n",
    "    <tr>\n",
    "        <td style=\"text-align:center\">D</td>\n",
    "        <td style=\"text-align:center\">5</td>\n",
    "        <td style=\"text-align:center\">B</td>\n",
    "    </tr>\n",
    "    <tr>\n",
    "        <td style=\"text-align:center\">E</td>\n",
    "        <td style=\"text-align:center\">9</td>\n",
    "        <td style=\"text-align:center\">D</td>\n",
    "    </tr>\n",
    "    <tr>\n",
    "        <td style=\"text-align:center\">F</td>\n",
    "        <td style=\"text-align:center\">6</td>\n",
    "        <td style=\"text-align:center\">G</td>\n",
    "    </tr>\n",
    "    <tr>\n",
    "        <td style=\"text-align:center\">G</td>\n",
    "        <td style=\"text-align:center\">4</td>\n",
    "        <td style=\"text-align:center\">C</td>\n",
    "    </tr>\n",
    "    <tr>\n",
    "        <td style=\"text-align:center\">H</td>\n",
    "        <td style=\"text-align:center\">2</td>\n",
    "        <td style=\"text-align:center\">A</td>\n",
    "    </tr>\n",
    "    <tr>\n",
    "        <td style=\"text-align:center\">J</td>\n",
    "        <td style=\"text-align:center\">11, 10</td>\n",
    "        <td style=\"text-align:center\">H, K</td>\n",
    "    </tr>\n",
    "    <tr>\n",
    "        <td style=\"text-align:center\">K</td>\n",
    "        <td style=\"text-align:center\">7</td>\n",
    "        <td style=\"text-align:center\">H</td>\n",
    "    </tr>\n",
    "    <tr>\n",
    "        <td style=\"text-align:center\">L</td>\n",
    "        <td style=\"text-align:center\">7</td>\n",
    "        <td style=\"text-align:center\">G</td>\n",
    "    </tr>\n",
    "    <tr>\n",
    "        <td style=\"text-align:center\">M</td>\n",
    "        <td style=\"text-align:center\">11</td>\n",
    "        <td style=\"text-align:center\">L</td>\n",
    "    </tr>\n",
    "    <tr>\n",
    "        <td style=\"text-align:center\">N</td>\n",
    "        <td style=\"text-align:center\">10</td>\n",
    "        <td style=\"text-align:center\">L</td>\n",
    "    </tr>\n",
    "    <tr>\n",
    "        <td style=\"text-align:center\">P</td>\n",
    "        <td style=\"text-align:center\">14, 13</td>\n",
    "        <td style=\"text-align:center\">N, M</td>\n",
    "    </tr>\n",
    "    <tr>\n",
    "        <td style=\"text-align:center\">Q</td>\n",
    "        <td style=\"text-align:center\">21, 19</td>\n",
    "        <td style=\"text-align:center\">M, W</td>\n",
    "    </tr>\n",
    "    <tr>\n",
    "        <td style=\"text-align:center\">R</td>\n",
    "        <td style=\"text-align:center\">18</td>\n",
    "        <td style=\"text-align:center\">P</td>\n",
    "    </tr>\n",
    "    <tr>\n",
    "        <td style=\"text-align:center\">S</td>\n",
    "        <td style=\"text-align:center\">17</td>\n",
    "        <td style=\"text-align:center\">N</td>\n",
    "    </tr>\n",
    "    <tr>\n",
    "        <td style=\"text-align:center\">T</td>\n",
    "        <td style=\"text-align:center\">21, 20</td>\n",
    "        <td style=\"text-align:center\">S, R</td>\n",
    "    </tr>\n",
    "    <tr>\n",
    "        <td style=\"text-align:center\">U</td>\n",
    "        <td style=\"text-align:center\">20, 19</td>\n",
    "        <td style=\"text-align:center\">V, S</td>\n",
    "    </tr>\n",
    "    <tr>\n",
    "        <td style=\"text-align:center\">V</td>\n",
    "        <td style=\"text-align:center\">17</td>\n",
    "        <td style=\"text-align:center\">L</td>\n",
    "    </tr>\n",
    "    <tr>\n",
    "        <td style=\"text-align:center\">W</td>\n",
    "        <td style=\"text-align:center\">15</td>\n",
    "        <td style=\"text-align:center\">L</td>\n",
    "    </tr>\n",
    "    </tbody>\n",
    "</table>\n",
    "<br>\n",
    "<br>\n",
    "<hr style=\"color:black\"></hr>"
   ]
  },
  {
   "cell_type": "markdown",
   "id": "b4f7d371",
   "metadata": {},
   "source": [
    "## Question 2 \n",
    "<h4 style=\"line-height:1.50\">The creator of the puzzle has been told that the A* algorithm is more efficient at finding the shortest   path because it uses heuristics. Compare the performance of Dijkstra’s algorithm and the A* search algorithm, referring to heuristics, to find the shortest path to the problem by implementing both algorithms programmatically and comparing the solutions generated in Mark-down. Refer to the complexity of the algorithms and compare the actual time it takes for the solutions to be processed. [0-60] </h4>"
   ]
  },
  {
   "cell_type": "markdown",
   "id": "5d77925a",
   "metadata": {},
   "source": [
    "## import libraries"
   ]
  },
  {
   "cell_type": "code",
   "execution_count": 2,
   "id": "1d54a2f6",
   "metadata": {},
   "outputs": [],
   "source": [
    "import heapq"
   ]
  },
  {
   "cell_type": "markdown",
   "id": "aa720c79",
   "metadata": {},
   "source": [
    "## Graph"
   ]
  },
  {
   "cell_type": "code",
   "execution_count": 3,
   "id": "06a13aac",
   "metadata": {},
   "outputs": [],
   "source": [
    "graph = {\n",
    "    'A': {'B':1, 'C':5, 'H':2},\n",
    "    'B': {'A':1, 'C':2, 'D':4},\n",
    "    'C': {'A':5, 'B':2, 'G':1},\n",
    "    'D': {'B':4, 'F':7, 'L':7},\n",
    "    'E': {'D':4, 'F':3, 'W':6},\n",
    "    'F': {'D':7, 'E':3, 'G':2},\n",
    "    'G': {'C':1, 'F':2, 'L':3},\n",
    "    'H': {'A':2, 'J':9, 'K':5},\n",
    "    'J': {'H':9, 'K':3, 'N':6},\n",
    "    'K': {'H':5, 'J':3, 'L':5},\n",
    "    'L': {'D':7, 'G':3, 'K':5, 'M':4, 'N':3, 'W':8, 'V':10},\n",
    "    'M': {'L':4, 'P':2, 'Q':10},\n",
    "    'N': {'J':6, 'L':3, 'P':4, 'S':7},\n",
    "    'P': {'M':2, 'N':4, 'R':5},\n",
    "    'Q': {'M':10, 'S':8, 'W':4},\n",
    "    'R': {'P':5, 'S':4, 'T':3},\n",
    "    'S': {'N':7, 'Q':8, 'R':4, 'T':4, 'U':2, 'V':6},\n",
    "    'T': {'R':3, 'S':4, 'U':1},\n",
    "    'U': {'S':2, 'T':1, 'V':3},\n",
    "    'V': {'L':10, 'S':6, 'W':5},\n",
    "    'W': {'E':6, 'L':8, 'Q':4, 'V':5},\n",
    "    \n",
    "}"
   ]
  },
  {
   "cell_type": "markdown",
   "id": "5d512178",
   "metadata": {},
   "source": [
    "## Dijkstra Algorithm"
   ]
  },
  {
   "cell_type": "code",
   "execution_count": 4,
   "id": "731c470a",
   "metadata": {},
   "outputs": [
    {
     "name": "stdout",
     "output_type": "stream",
     "text": [
      "Shortest path using Dijkstra's: {'A': 0, 'B': 1, 'C': 3, 'D': 5, 'E': 9, 'F': 6, 'G': 4, 'H': 2, 'J': 10, 'K': 7, 'L': 7, 'M': 11, 'N': 10, 'P': 13, 'Q': 19, 'R': 18, 'S': 17, 'T': 20, 'U': 19, 'V': 17, 'W': 15}\n"
     ]
    }
   ],
   "source": [
    "\n",
    "# Dijkstra's Algorithm\n",
    "def dijkstra(graph, start):\n",
    "    distances = {node: float('infinity') for node in graph}\n",
    "    distances[start] = 0\n",
    "    priority_queue = [(0, start)]\n",
    "\n",
    "    while priority_queue:\n",
    "        current_distance, current_node = heapq.heappop(priority_queue)\n",
    "\n",
    "        if current_distance > distances[current_node]:\n",
    "            continue\n",
    "\n",
    "        for neighbor, weight in graph[current_node].items():\n",
    "            distance = current_distance + weight\n",
    "\n",
    "            if distance < distances[neighbor]:\n",
    "                distances[neighbor] = distance\n",
    "                heapq.heappush(priority_queue, (distance, neighbor))\n",
    "\n",
    "    return distances\n",
    "\n",
    "\n",
    "# Find the shortest path using Dijkstra's\n",
    "dijkstra_result = dijkstra(graph, 'A')\n",
    "print(\"Shortest path using Dijkstra's:\", dijkstra_result)"
   ]
  },
  {
   "cell_type": "code",
   "execution_count": 5,
   "id": "345822a4",
   "metadata": {},
   "outputs": [
    {
     "name": "stdout",
     "output_type": "stream",
     "text": [
      "Shortest path from 'A' to 'S': ['A', 'B', 'C', 'G', 'L', 'N', 'S']\n"
     ]
    }
   ],
   "source": [
    "def shortest_path(graph, start, target):\n",
    "    distances = {node: float('infinity') for node in graph}\n",
    "    distances[start] = 0\n",
    "    priority_queue = [(0, start)]\n",
    "    previous_nodes = {}  # To track the path\n",
    "\n",
    "    while priority_queue:\n",
    "        current_distance, current_node = heapq.heappop(priority_queue)\n",
    "\n",
    "        if current_node == target:\n",
    "            path = []\n",
    "            while current_node is not None:\n",
    "                path.insert(0, current_node)\n",
    "                current_node = previous_nodes.get(current_node)\n",
    "            return path  # Found the shortest path\n",
    "\n",
    "        if current_distance > distances[current_node]:\n",
    "            continue\n",
    "\n",
    "        for neighbor, weight in graph[current_node].items():\n",
    "            distance = current_distance + weight\n",
    "\n",
    "            if distance < distances[neighbor]:\n",
    "                distances[neighbor] = distance\n",
    "                previous_nodes[neighbor] = current_node\n",
    "                heapq.heappush(priority_queue, (distance, neighbor))\n",
    "\n",
    "    return []  # Target node is not reachable\n",
    "\n",
    "# Find the shortest path from 'A' to 'S'\n",
    "shortest_path_result = shortest_path(graph, 'A', 'S')\n",
    "print(\"Shortest path from 'A' to 'S':\", shortest_path_result)"
   ]
  },
  {
   "cell_type": "markdown",
   "id": "e4231ac3",
   "metadata": {},
   "source": [
    "## A* Algorithm"
   ]
  },
  {
   "cell_type": "code",
   "execution_count": 6,
   "id": "e29a9ae5",
   "metadata": {},
   "outputs": [],
   "source": [
    "# Heuristic function for A* (this is problem-specific)\n",
    "def heuristic(node, goal):\n",
    "    # Example heuristic: Manhattan distance\n",
    "    return abs(ord(node) - ord(goal))"
   ]
  },
  {
   "cell_type": "code",
   "execution_count": 7,
   "id": "3807ba76",
   "metadata": {},
   "outputs": [
    {
     "name": "stdout",
     "output_type": "stream",
     "text": [
      "Shortest path using A*: ['A', 'B', 'C', 'G', 'L', 'N', 'S']\n"
     ]
    }
   ],
   "source": [
    "# A* Search Algorithm\n",
    "def astar(graph, start, goal, heuristic):\n",
    "    open_set = [(0, start)]\n",
    "    came_from = {}\n",
    "    g_score = {node: float('infinity') for node in graph}\n",
    "    g_score[start] = 0\n",
    "    f_score = {node: float('infinity') for node in graph}\n",
    "    f_score[start] = heuristic(start, goal)\n",
    "\n",
    "    while open_set:\n",
    "        current = min(open_set, key=lambda node: f_score[node[1]])\n",
    "        current_node = current[1]\n",
    "\n",
    "        if current_node == goal:\n",
    "            path = []\n",
    "            while current_node in came_from:\n",
    "                path.append(current_node)\n",
    "                current_node = came_from[current_node]\n",
    "            path.append(start)\n",
    "            path.reverse()\n",
    "            return path\n",
    "\n",
    "        open_set.remove(current)\n",
    "        for neighbor, weight in graph[current_node].items():\n",
    "            tentative_g_score = g_score[current_node] + weight\n",
    "\n",
    "            if tentative_g_score < g_score[neighbor]:\n",
    "                came_from[neighbor] = current_node\n",
    "                g_score[neighbor] = tentative_g_score\n",
    "                f_score[neighbor] = g_score[neighbor] + heuristic(neighbor, goal)\n",
    "                if (f_score[neighbor], neighbor) not in open_set:\n",
    "                    open_set.append((f_score[neighbor], neighbor))\n",
    "\n",
    "    return None\n",
    "\n",
    "\n",
    "# Find the shortest path using A*\n",
    "astar_result = astar(graph, 'A', 'S', heuristic)\n",
    "print(\"Shortest path using A*:\", astar_result)"
   ]
  },
  {
   "cell_type": "code",
   "execution_count": null,
   "id": "a2748f0f",
   "metadata": {},
   "outputs": [],
   "source": []
  }
 ],
 "metadata": {
  "kernelspec": {
   "display_name": "Python 3 (ipykernel)",
   "language": "python",
   "name": "python3"
  },
  "language_info": {
   "codemirror_mode": {
    "name": "ipython",
    "version": 3
   },
   "file_extension": ".py",
   "mimetype": "text/x-python",
   "name": "python",
   "nbconvert_exporter": "python",
   "pygments_lexer": "ipython3",
   "version": "3.11.4"
  }
 },
 "nbformat": 4,
 "nbformat_minor": 5
}
