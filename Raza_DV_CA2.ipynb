{
 "cells": [
  {
   "cell_type": "code",
   "execution_count": 1,
   "id": "1d54a2f6",
   "metadata": {},
   "outputs": [],
   "source": [
    "import heapq"
   ]
  },
  {
   "cell_type": "code",
   "execution_count": 3,
   "id": "06a13aac",
   "metadata": {},
   "outputs": [],
   "source": [
    "graph = {\n",
    "    'A': {'B':1, 'C':5, 'H':2},\n",
    "    'B': {'A':1, 'C':2, 'D':4},\n",
    "    'C': {'A':5, 'B':2, 'G':1},\n",
    "    'D': {'B':4, 'F':7, 'L':7},\n",
    "    'E': {'D':4, 'F':3, 'W':6},\n",
    "    'F': {'D':7, 'E':3, 'G':2},\n",
    "    'G': {'C':1, 'F':2, 'L':3},\n",
    "    'H': {'A':2, 'J':9, 'K':5},\n",
    "    'J': {'H':9, 'K':3, 'N':6},\n",
    "    'K': {'H':5, 'J':3, 'L':5},\n",
    "    'L': {'D':7, 'G':3, 'K':5, 'M':4, 'N':3, 'W':8, 'V':10},\n",
    "    'M': {'L':4, 'P':2, 'Q':10},\n",
    "    'N': {'J':6, 'L':3, 'P':4, 'S':7},\n",
    "    'P': {'M':2, 'N':4, 'R':5},\n",
    "    'Q': {'M':10, 'S':8, 'W':4},\n",
    "    'R': {'P':5, 'S':4, 'T':3},\n",
    "    'S': {'N':7, 'Q':8, 'R':4, 'T':4, 'U':2, 'V':6},\n",
    "    'T': {'R':3, 'S':4, 'U':1},\n",
    "    'U': {'S':2, 'T':1, 'V':3},\n",
    "    'V': {'L':10, 'S':6, 'W':5},\n",
    "    'W': {'E':6, 'L':8, 'Q':4, 'V':5},\n",
    "    \n",
    "}"
   ]
  },
  {
   "cell_type": "code",
   "execution_count": null,
   "id": "731c470a",
   "metadata": {},
   "outputs": [],
   "source": []
  }
 ],
 "metadata": {
  "kernelspec": {
   "display_name": "Python 3 (ipykernel)",
   "language": "python",
   "name": "python3"
  },
  "language_info": {
   "codemirror_mode": {
    "name": "ipython",
    "version": 3
   },
   "file_extension": ".py",
   "mimetype": "text/x-python",
   "name": "python",
   "nbconvert_exporter": "python",
   "pygments_lexer": "ipython3",
   "version": "3.11.4"
  }
 },
 "nbformat": 4,
 "nbformat_minor": 5
}
