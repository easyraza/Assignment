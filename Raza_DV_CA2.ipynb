{
 "cells": [
  {
   "cell_type": "markdown",
   "id": "36517ab5",
   "metadata": {},
   "source": [
    "<br><br>\n",
    "<div style=\"width:50%; margin: 0 auto; \">\n",
    "    <h2 style=\"color:red\">***************************************************</h2>\n",
    "    <h2 style=\"text-align:left; padding-left:15%\"><b>Name:</b> <span style=\"color:blue\">Raza</span></h2>\n",
    "    <h2 style=\"text-align:left; padding-left:15%\"><b>Course:</b> <span style=\"color:blue\">Artificial Intelligence</span></h2>\n",
    "    <h2 style=\"color:red\">***************************************************</h2>\n",
    "</div>\n",
    "<br><br>"
   ]
  },
  {
   "cell_type": "markdown",
   "id": "0af4c51b",
   "metadata": {},
   "source": [
    "## Question 1\n",
    "\n",
    "<h4 style=\"line-height:1.5\">A puzzle has multiple ways of reaching the end solution. Fig. 1 shows a graph that represents all possible routes to the solution. The starting point of the game is represented by A, the solution is represented by S. The other points in the graph are possible intermediary stages.</h4>\n",
    "\n",
    "<img src=\"graph.png\">\n",
    "<hr style=\"border-color:black; border-width:2px; width:40%\">"
   ]
  },
  {
   "cell_type": "markdown",
   "id": "ba094f04",
   "metadata": {},
   "source": [
    "<h4 style=\"line-height:1.5\">a(i): Identify the differences between a graph and a tree. [0-5] </h4>\n",
    "\n",
    "\n",
    "<p><b>Graph:</b> A graph is a more general data structure that consists of a set of nodes (vertices) connected by edges. These edges can have various properties, and there are no strict rules about how they are organized. Graphs can be cyclic (contain loops) or acyclic (no loops), and they can have multiple connections between nodes. </p>\n",
    "\n",
    "<p><b>Tree:</b> A tree, on the other hand, is a specific type of graph with some important differences:</p>\n",
    "\n",
    "<ul>\n",
    "    <li>A tree is always acyclic, meaning it doesn't contain any loops or cycles.</li>\n",
    "    <li>In a tree, every node has a parent except for the root node, which has no parent.</li>\n",
    "    <li>There is exactly one unique path between any pair of nodes in a tree.</li>\n",
    "    <li>Trees have a hierarchical structure, where nodes are organized in levels, and child nodes are connected to parent nodes.</li>\n",
    "</ul>\n",
    "\n",
    "<p>\n",
    "In summary, the key differences are that trees are a special case of graphs with no cycles, a clear hierarchy, and unique paths between nodes, while graphs are more general and can have cycles, multiple connections, and no specific hierarchy.\n",
    "</p>\n",
    "\n",
    "<br>\n",
    "<hr style=\"border-color:gray; border-width:2px; width:40%\">"
   ]
  },
  {
   "cell_type": "markdown",
   "id": "82626a65",
   "metadata": {},
   "source": [
    "<h4 style=\"line-height:1.5\">a(ii): Explain in detail how the graph is an abstraction of the problem. [0-5] </h4>\n",
    "\n",
    "<p>A graph is a powerful abstraction used in computer science and mathematics to represent various real-world and abstract problems. It is a way to model and solve problems by simplifying complex relationships and structures. Here's how a graph serves as an abstraction of a problem:</p>\n",
    "\n",
    "<ul>\n",
    "    <li><b>Nodes and Edges:</b> In a graph, you have nodes (also known as vertices) and edges. Nodes represent entities or objects, and edges represent relationships or connections between these entities. This abstraction allows you to focus on the relationships between elements rather than the specific details of the entities.</li>\n",
    "    <li><b>Modeling Relationships:</b> Graphs are excellent for modeling complex relationships in a problem. For example, in a social network, people are nodes, and friendships are edges. By abstracting this information into a graph, you can easily analyze and solve problems related to connections, such as finding friends of friends or detecting communities.</li>\n",
    "    <li><b>Problem Reduction:</b> Graphs help reduce a problem to its essential components. When working with large data sets or complex systems, a graph allows you to simplify the problem by identifying critical elements and relationships while ignoring unnecessary details.</li>\n",
    "    <li><b>Algorithm Development:</b> Graph abstractions often lead to the development of specialized algorithms to solve specific problems. For example, Dijkstra's algorithm for finding the shortest path in a graph or Kruskal's algorithm for finding minimum spanning trees.</li>\n",
    "    <li><b>Visualization:</b> Graphs provide a visual representation of a problem, making it easier to understand and communicate. Visualizing the graph can help identify patterns and relationships that might not be apparent in the original problem statement.</li>\n",
    "    <li><b>Data Structures:</b> In computer science, graphs are also used as data structures. They allow efficient storage and retrieval of information, especially when dealing with interconnected data.</li>\n",
    "</ul>\n",
    "\n",
    "<br>\n",
    "<hr style=\"border-color:gray; border-width:2px; width:40%\">"
   ]
  },
  {
   "cell_type": "markdown",
   "id": "79ee69c1",
   "metadata": {},
   "source": [
    "<h4 style=\"line-height:1.5\">a(iii): Identify the advantages of using a visualisation such as the one shown in Fig. 1. [0-5] </h4>\n",
    "\n",
    "<p>A graph is a powerful abstraction used in computer science and mathematics to represent various real-world and abstract problems. It is a way to model and solve problems by simplifying complex relationships and structures. Here's how a graph serves as an abstraction of a problem:</p>\n",
    "\n",
    "<ul>\n",
    "    <li><b>Clarity and Intuition: </b> Graph visualizations provide a clear and intuitive representation of complex relationships. They make it easier to understand the structure of the data, identify patterns, and communicate information effectively to both technical and non-technical audiences.</li>\n",
    "    <li><b>Pattern Recognition:</b> Visualizations allow you to quickly recognize patterns, clusters, and anomalies within the data. This can be especially useful for identifying trends, clusters, or outliers in large datasets.</li>\n",
    "    <li><b>Efficient Data Exploration:</b> Graph visualizations enable users to explore data efficiently by interacting with the graph. Users can zoom in, pan, and click on nodes or edges to access detailed information, making data exploration more user-friendly.</li>\n",
    "    <li><b>Relationship Discovery:</b> They help in uncovering hidden or unexpected relationships within the data. This is particularly valuable for network analysis, social network analysis, and knowledge discovery.</li>\n",
    "    <li><b>Communication:</b> Graph visualizations are effective communication tools, facilitating discussions, presentations, and knowledge sharing. They make it easier to convey complex information to a diverse audience.</li>\n",
    "    <li><b>Decision-Making:</b> In fields like business and data analysis, graph visualizations aid decision-making. They provide a visual basis for informed decisions by displaying the pros and cons of different options.</li>\n",
    "    <li><b>Error Detection:</b> Visualizations can help identify errors or inconsistencies in data. By visualizing data relationships, it becomes easier to spot missing or incorrect connections in a network.</li>\n",
    "    <li><b>Algorithm Validation:</b> In computer science and mathematics, graph visualizations are used to validate and debug algorithms. They allow developers to visually inspect and verify the correctness of their algorithms.</li>\n",
    "    <li><b>Data Compression:</b> In some cases, a visual representation can provide a compact summary of a large amount of data, making it easier to grasp the essence of the information.</li>\n",
    "</ul>\n",
    "\n",
    "</p>In summary, graph visualizations offer advantages such as clarity, pattern recognition, efficient data exploration, improved communication, decision support, and error detection. They are valuable tools for a wide range of applications, helping users understand, analyze, and make informed decisions based on complex data.</p>\n",
    "\n",
    "<br>\n",
    "<hr style=\"border-color:gray; border-width:2px; width:40%\">"
   ]
  },
  {
   "cell_type": "markdown",
   "id": "bd11ed9a",
   "metadata": {},
   "source": [
    "<h4 style=\"line-height:1.5\"> (b)\tDemonstrate how Dijkstra’s algorithm would find the shortest path to the solution in Fig.1 through diagrams and written explanation of each stage. [0-25] </h4>\n",
    "\n",
    "<br>\n",
    "\n",
    "<table style=\"border: 1px solid black; align:left\">\n",
    "    <thead>\n",
    "    <tr>\n",
    "        <th style=\"text-align:center\">Vertex</th>\n",
    "        <th style=\"text-align:center\">Shortest Distance from Source</th>\n",
    "        <th style=\"text-align:center\">Previous Vertex</th>\n",
    "    </tr>\n",
    "    </thead>\n",
    "    <tbody>\n",
    "    <tr>\n",
    "        <td style=\"text-align:center\">A</td>\n",
    "        <td style=\"text-align:center\">0</td>\n",
    "        <td style=\"text-align:center\"></td>\n",
    "    </tr>\n",
    "    <tr>\n",
    "        <td style=\"text-align:center\">B</td>\n",
    "        <td style=\"text-align:center\">1</td>\n",
    "        <td style=\"text-align:center\">A</td>\n",
    "    </tr>\n",
    "    <tr>\n",
    "        <td style=\"text-align:center\">C</td>\n",
    "        <td style=\"text-align:center\">5, 3</td>\n",
    "        <td style=\"text-align:center\">A, B</td>\n",
    "    </tr>\n",
    "    <tr>\n",
    "        <td style=\"text-align:center\">D</td>\n",
    "        <td style=\"text-align:center\">5</td>\n",
    "        <td style=\"text-align:center\">B</td>\n",
    "    </tr>\n",
    "    <tr>\n",
    "        <td style=\"text-align:center\">E</td>\n",
    "        <td style=\"text-align:center\">9</td>\n",
    "        <td style=\"text-align:center\">D</td>\n",
    "    </tr>\n",
    "    <tr>\n",
    "        <td style=\"text-align:center\">F</td>\n",
    "        <td style=\"text-align:center\">6</td>\n",
    "        <td style=\"text-align:center\">G</td>\n",
    "    </tr>\n",
    "    <tr>\n",
    "        <td style=\"text-align:center\">G</td>\n",
    "        <td style=\"text-align:center\">4</td>\n",
    "        <td style=\"text-align:center\">C</td>\n",
    "    </tr>\n",
    "    <tr>\n",
    "        <td style=\"text-align:center\">H</td>\n",
    "        <td style=\"text-align:center\">2</td>\n",
    "        <td style=\"text-align:center\">A</td>\n",
    "    </tr>\n",
    "    <tr>\n",
    "        <td style=\"text-align:center\">J</td>\n",
    "        <td style=\"text-align:center\">11, 10</td>\n",
    "        <td style=\"text-align:center\">H, K</td>\n",
    "    </tr>\n",
    "    <tr>\n",
    "        <td style=\"text-align:center\">K</td>\n",
    "        <td style=\"text-align:center\">7</td>\n",
    "        <td style=\"text-align:center\">H</td>\n",
    "    </tr>\n",
    "    <tr>\n",
    "        <td style=\"text-align:center\">L</td>\n",
    "        <td style=\"text-align:center\">7</td>\n",
    "        <td style=\"text-align:center\">G</td>\n",
    "    </tr>\n",
    "    <tr>\n",
    "        <td style=\"text-align:center\">M</td>\n",
    "        <td style=\"text-align:center\">11</td>\n",
    "        <td style=\"text-align:center\">L</td>\n",
    "    </tr>\n",
    "    <tr>\n",
    "        <td style=\"text-align:center\">N</td>\n",
    "        <td style=\"text-align:center\">10</td>\n",
    "        <td style=\"text-align:center\">L</td>\n",
    "    </tr>\n",
    "    <tr>\n",
    "        <td style=\"text-align:center\">P</td>\n",
    "        <td style=\"text-align:center\">14, 13</td>\n",
    "        <td style=\"text-align:center\">N, M</td>\n",
    "    </tr>\n",
    "    <tr>\n",
    "        <td style=\"text-align:center\">Q</td>\n",
    "        <td style=\"text-align:center\">21, 19</td>\n",
    "        <td style=\"text-align:center\">M, W</td>\n",
    "    </tr>\n",
    "    <tr>\n",
    "        <td style=\"text-align:center\">R</td>\n",
    "        <td style=\"text-align:center\">18</td>\n",
    "        <td style=\"text-align:center\">P</td>\n",
    "    </tr>\n",
    "    <tr>\n",
    "        <td style=\"text-align:center\">S</td>\n",
    "        <td style=\"text-align:center\">17</td>\n",
    "        <td style=\"text-align:center\">N</td>\n",
    "    </tr>\n",
    "    <tr>\n",
    "        <td style=\"text-align:center\">T</td>\n",
    "        <td style=\"text-align:center\">21, 20</td>\n",
    "        <td style=\"text-align:center\">S, R</td>\n",
    "    </tr>\n",
    "    <tr>\n",
    "        <td style=\"text-align:center\">U</td>\n",
    "        <td style=\"text-align:center\">20, 19</td>\n",
    "        <td style=\"text-align:center\">V, S</td>\n",
    "    </tr>\n",
    "    <tr>\n",
    "        <td style=\"text-align:center\">V</td>\n",
    "        <td style=\"text-align:center\">17</td>\n",
    "        <td style=\"text-align:center\">L</td>\n",
    "    </tr>\n",
    "    <tr>\n",
    "        <td style=\"text-align:center\">W</td>\n",
    "        <td style=\"text-align:center\">15</td>\n",
    "        <td style=\"text-align:center\">L</td>\n",
    "    </tr>\n",
    "    </tbody>\n",
    "</table>\n",
    "<br>\n",
    "<br>\n",
    "<hr style=\"border-color:gray; border-width:2px; width:40%\">"
   ]
  },
  {
   "cell_type": "markdown",
   "id": "bfedcb52",
   "metadata": {},
   "source": [
    "## Question 2 \n",
    "<h4 style=\"line-height:1.50\">The creator of the puzzle has been told that the A* algorithm is more efficient at finding the shortest   path because it uses heuristics. Compare the performance of Dijkstra’s algorithm and the A* search algorithm, referring to heuristics, to find the shortest path to the problem by implementing both algorithms programmatically and comparing the solutions generated in Mark-down. Refer to the complexity of the algorithms and compare the actual time it takes for the solutions to be processed. [0-60] </h4>\n",
    "\n",
    "<hr style=\"border-color:black; border-width:2px; width:40%\">"
   ]
  },
  {
   "cell_type": "markdown",
   "id": "5d77925a",
   "metadata": {},
   "source": [
    "## import libraries"
   ]
  },
  {
   "cell_type": "code",
   "execution_count": 2,
   "id": "1d54a2f6",
   "metadata": {},
   "outputs": [],
   "source": [
    "import heapq"
   ]
  },
  {
   "cell_type": "markdown",
   "id": "aa720c79",
   "metadata": {},
   "source": [
    "## Graph"
   ]
  },
  {
   "cell_type": "code",
   "execution_count": 3,
   "id": "06a13aac",
   "metadata": {},
   "outputs": [],
   "source": [
    "graph = {\n",
    "    'A': {'B':1, 'C':5, 'H':2},\n",
    "    'B': {'A':1, 'C':2, 'D':4},\n",
    "    'C': {'A':5, 'B':2, 'G':1},\n",
    "    'D': {'B':4, 'F':7, 'L':7},\n",
    "    'E': {'D':4, 'F':3, 'W':6},\n",
    "    'F': {'D':7, 'E':3, 'G':2},\n",
    "    'G': {'C':1, 'F':2, 'L':3},\n",
    "    'H': {'A':2, 'J':9, 'K':5},\n",
    "    'J': {'H':9, 'K':3, 'N':6},\n",
    "    'K': {'H':5, 'J':3, 'L':5},\n",
    "    'L': {'D':7, 'G':3, 'K':5, 'M':4, 'N':3, 'W':8, 'V':10},\n",
    "    'M': {'L':4, 'P':2, 'Q':10},\n",
    "    'N': {'J':6, 'L':3, 'P':4, 'S':7},\n",
    "    'P': {'M':2, 'N':4, 'R':5},\n",
    "    'Q': {'M':10, 'S':8, 'W':4},\n",
    "    'R': {'P':5, 'S':4, 'T':3},\n",
    "    'S': {'N':7, 'Q':8, 'R':4, 'T':4, 'U':2, 'V':6},\n",
    "    'T': {'R':3, 'S':4, 'U':1},\n",
    "    'U': {'S':2, 'T':1, 'V':3},\n",
    "    'V': {'L':10, 'S':6, 'W':5},\n",
    "    'W': {'E':6, 'L':8, 'Q':4, 'V':5},\n",
    "    \n",
    "}"
   ]
  },
  {
   "cell_type": "markdown",
   "id": "5d512178",
   "metadata": {},
   "source": [
    "## Dijkstra Algorithm"
   ]
  },
  {
   "cell_type": "code",
   "execution_count": 4,
   "id": "731c470a",
   "metadata": {},
   "outputs": [
    {
     "name": "stdout",
     "output_type": "stream",
     "text": [
      "Shortest path using Dijkstra's: {'A': 0, 'B': 1, 'C': 3, 'D': 5, 'E': 9, 'F': 6, 'G': 4, 'H': 2, 'J': 10, 'K': 7, 'L': 7, 'M': 11, 'N': 10, 'P': 13, 'Q': 19, 'R': 18, 'S': 17, 'T': 20, 'U': 19, 'V': 17, 'W': 15}\n"
     ]
    }
   ],
   "source": [
    "\n",
    "# Dijkstra's Algorithm\n",
    "def dijkstra(graph, start):\n",
    "    distances = {node: float('infinity') for node in graph}\n",
    "    distances[start] = 0\n",
    "    priority_queue = [(0, start)]\n",
    "\n",
    "    while priority_queue:\n",
    "        current_distance, current_node = heapq.heappop(priority_queue)\n",
    "\n",
    "        if current_distance > distances[current_node]:\n",
    "            continue\n",
    "\n",
    "        for neighbor, weight in graph[current_node].items():\n",
    "            distance = current_distance + weight\n",
    "\n",
    "            if distance < distances[neighbor]:\n",
    "                distances[neighbor] = distance\n",
    "                heapq.heappush(priority_queue, (distance, neighbor))\n",
    "\n",
    "    return distances\n",
    "\n",
    "\n",
    "# Find the shortest path using Dijkstra's\n",
    "dijkstra_result = dijkstra(graph, 'A')\n",
    "print(\"Shortest path using Dijkstra's:\", dijkstra_result)"
   ]
  },
  {
   "cell_type": "code",
   "execution_count": 5,
   "id": "c2403bcf",
   "metadata": {},
   "outputs": [
    {
     "name": "stdout",
     "output_type": "stream",
     "text": [
      "Shortest path from 'A' to 'S': ['A', 'B', 'C', 'G', 'L', 'N', 'S']\n"
     ]
    }
   ],
   "source": [
    "def shortest_path(graph, start, target):\n",
    "    distances = {node: float('infinity') for node in graph}\n",
    "    distances[start] = 0\n",
    "    priority_queue = [(0, start)]\n",
    "    previous_nodes = {}  # To track the path\n",
    "\n",
    "    while priority_queue:\n",
    "        current_distance, current_node = heapq.heappop(priority_queue)\n",
    "\n",
    "        if current_node == target:\n",
    "            path = []\n",
    "            while current_node is not None:\n",
    "                path.insert(0, current_node)\n",
    "                current_node = previous_nodes.get(current_node)\n",
    "            return path  # Found the shortest path\n",
    "\n",
    "        if current_distance > distances[current_node]:\n",
    "            continue\n",
    "\n",
    "        for neighbor, weight in graph[current_node].items():\n",
    "            distance = current_distance + weight\n",
    "\n",
    "            if distance < distances[neighbor]:\n",
    "                distances[neighbor] = distance\n",
    "                previous_nodes[neighbor] = current_node\n",
    "                heapq.heappush(priority_queue, (distance, neighbor))\n",
    "\n",
    "    return []  # Target node is not reachable\n",
    "\n",
    "# Find the shortest path from 'A' to 'S'\n",
    "shortest_path_result = shortest_path(graph, 'A', 'S')\n",
    "print(\"Shortest path from 'A' to 'S':\", shortest_path_result)"
   ]
  },
  {
   "cell_type": "markdown",
   "id": "e4231ac3",
   "metadata": {},
   "source": [
    "## A* Algorithm"
   ]
  },
  {
   "cell_type": "code",
   "execution_count": 6,
   "id": "e29a9ae5",
   "metadata": {},
   "outputs": [],
   "source": [
    "# Heuristic function for A* (this is problem-specific)\n",
    "def heuristic(node, goal):\n",
    "    # Example heuristic: Manhattan distance\n",
    "    return abs(ord(node) - ord(goal))"
   ]
  },
  {
   "cell_type": "code",
   "execution_count": 7,
   "id": "3807ba76",
   "metadata": {},
   "outputs": [
    {
     "name": "stdout",
     "output_type": "stream",
     "text": [
      "Shortest path using A*: ['A', 'B', 'C', 'G', 'L', 'N', 'S']\n"
     ]
    }
   ],
   "source": [
    "# A* Search Algorithm\n",
    "def astar(graph, start, goal, heuristic):\n",
    "    open_set = [(0, start)]\n",
    "    came_from = {}\n",
    "    g_score = {node: float('infinity') for node in graph}\n",
    "    g_score[start] = 0\n",
    "    f_score = {node: float('infinity') for node in graph}\n",
    "    f_score[start] = heuristic(start, goal)\n",
    "\n",
    "    while open_set:\n",
    "        current = min(open_set, key=lambda node: f_score[node[1]])\n",
    "        current_node = current[1]\n",
    "\n",
    "        if current_node == goal:\n",
    "            path = []\n",
    "            while current_node in came_from:\n",
    "                path.append(current_node)\n",
    "                current_node = came_from[current_node]\n",
    "            path.append(start)\n",
    "            path.reverse()\n",
    "            return path\n",
    "\n",
    "        open_set.remove(current)\n",
    "        for neighbor, weight in graph[current_node].items():\n",
    "            tentative_g_score = g_score[current_node] + weight\n",
    "\n",
    "            if tentative_g_score < g_score[neighbor]:\n",
    "                came_from[neighbor] = current_node\n",
    "                g_score[neighbor] = tentative_g_score\n",
    "                f_score[neighbor] = g_score[neighbor] + heuristic(neighbor, goal)\n",
    "                if (f_score[neighbor], neighbor) not in open_set:\n",
    "                    open_set.append((f_score[neighbor], neighbor))\n",
    "\n",
    "    return None\n",
    "\n",
    "\n",
    "# Find the shortest path using A*\n",
    "astar_result = astar(graph, 'A', 'S', heuristic)\n",
    "print(\"Shortest path using A*:\", astar_result)"
   ]
  },
  {
   "cell_type": "markdown",
   "id": "46fdeb92",
   "metadata": {},
   "source": [
    "## <h1 style=\"color:red; text-align:center\">END!</h1>"
   ]
  }
 ],
 "metadata": {
  "kernelspec": {
   "display_name": "Python 3 (ipykernel)",
   "language": "python",
   "name": "python3"
  },
  "language_info": {
   "codemirror_mode": {
    "name": "ipython",
    "version": 3
   },
   "file_extension": ".py",
   "mimetype": "text/x-python",
   "name": "python",
   "nbconvert_exporter": "python",
   "pygments_lexer": "ipython3",
   "version": "3.11.4"
  }
 },
 "nbformat": 4,
 "nbformat_minor": 5
}
